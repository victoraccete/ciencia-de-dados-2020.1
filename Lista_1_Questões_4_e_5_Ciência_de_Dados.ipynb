{
  "nbformat": 4,
  "nbformat_minor": 0,
  "metadata": {
    "colab": {
      "name": "Lista 1 - Questões 4 e 5 - Ciência de Dados.ipynb",
      "provenance": [],
      "collapsed_sections": [],
      "authorship_tag": "ABX9TyPUikYscXj/wSv9QQi7+fp/",
      "include_colab_link": true
    },
    "kernelspec": {
      "name": "python3",
      "display_name": "Python 3"
    }
  },
  "cells": [
    {
      "cell_type": "markdown",
      "metadata": {
        "id": "view-in-github",
        "colab_type": "text"
      },
      "source": [
        "<a href=\"https://colab.research.google.com/github/victoraccete/ciencia-de-dados-2020.1/blob/main/Lista_1_Quest%C3%B5es_4_e_5_Ci%C3%AAncia_de_Dados.ipynb\" target=\"_parent\"><img src=\"https://colab.research.google.com/assets/colab-badge.svg\" alt=\"Open In Colab\"/></a>"
      ]
    },
    {
      "cell_type": "code",
      "metadata": {
        "id": "AI8DwAuL4Z92"
      },
      "source": [
        "import numpy as np\n",
        "import matplotlib.pyplot as plt\n",
        "from scipy.stats import skewnorm, normaltest"
      ],
      "execution_count": null,
      "outputs": []
    },
    {
      "cell_type": "markdown",
      "metadata": {
        "id": "5Nzhhs5wzxTw"
      },
      "source": [
        "# 4a, 4b e 5a:\n",
        "###**negrito** Criando os dados com configurações especificadas de média e de mediana e plotando os histogramas\n",
        "Usei skewnorm porque quando a distribuição é \"right-skewed\", a média é maior do que a mediana; e quando a distribuição é \"left-skewed\", a mediana é maior do que a média. Sabendo disso, criei uma distribuição \"left-skewed\" e outra \"right-skewed\" para criar as distribuições exigidas no enunciado. "
      ]
    },
    {
      "cell_type": "code",
      "metadata": {
        "colab": {
          "base_uri": "https://localhost:8080/",
          "height": 299
        },
        "id": "KzMyhr71ypZ_",
        "outputId": "57823032-2c73-481e-b0fe-104b1b152102"
      },
      "source": [
        "right_skewed_v1 = skewnorm.rvs(10, loc=90, scale=50, size=10000).astype(np.int)\n",
        "print('Median:', np.median(right_skewed_v1))\n",
        "print('Mean:', np.mean(right_skewed_v1))\n",
        "plt.hist(right_skewed_v1, bins=10)\n",
        "plt.show()"
      ],
      "execution_count": null,
      "outputs": [
        {
          "output_type": "stream",
          "text": [
            "Median: 124.0\n",
            "Mean: 129.2264\n"
          ],
          "name": "stdout"
        },
        {
          "output_type": "display_data",
          "data": {
            "image/png": "[encoded data removed]",
            "text/plain": [
              "<Figure size 432x288 with 1 Axes>"
            ]
          },
          "metadata": {
            "tags": [],
            "needs_background": "light"
          }
        }
      ]
    },
    {
      "cell_type": "code",
      "metadata": {
        "colab": {
          "base_uri": "https://localhost:8080/",
          "height": 299
        },
        "id": "QFD04wECkbQX",
        "outputId": "0780a374-e97b-4b6d-8dbd-94db4aaedeaf"
      },
      "source": [
        "left_skewed_v2 = skewnorm.rvs(-10, loc=90, scale=50, size=1000).astype(np.int)\n",
        "print('Median:', np.median(left_skewed_v2))\n",
        "print('Mean:', np.mean(left_skewed_v2))\n",
        "plt.hist(left_skewed_v2, bins=10)\n",
        "plt.show()"
      ],
      "execution_count": null,
      "outputs": [
        {
          "output_type": "stream",
          "text": [
            "Median: 55.0\n",
            "Mean: 48.204\n"
          ],
          "name": "stdout"
        },
        {
          "output_type": "display_data",
          "data": {
            "image/png": "[encoded data removed]",
            "text/plain": [
              "<Figure size 432x288 with 1 Axes>"
            ]
          },
          "metadata": {
            "tags": [],
            "needs_background": "light"
          }
        }
      ]
    },
    {
      "cell_type": "markdown",
      "metadata": {
        "id": "RZAxcseb24LI"
      },
      "source": [
        "# 5b:\n",
        "### Usando o normaltest do scipy, que usa o teste de hipótese, de acordo com a documentação.\n",
        "https://docs.scipy.org/doc/scipy/reference/generated/scipy.stats.normaltest.html\n"
      ]
    },
    {
      "cell_type": "code",
      "metadata": {
        "id": "drQqoR84xSzp",
        "colab": {
          "base_uri": "https://localhost:8080/"
        },
        "outputId": "4acfb6d2-447a-4d13-9fa1-b69987fd13a1"
      },
      "source": [
        "normaltest(right_skewed_v1, axis=None)"
      ],
      "execution_count": null,
      "outputs": [
        {
          "output_type": "execute_result",
          "data": {
            "text/plain": [
              "NormaltestResult(statistic=1149.5505631388005, pvalue=2.389279077222858e-250)"
            ]
          },
          "metadata": {
            "tags": []
          },
          "execution_count": 139
        }
      ]
    },
    {
      "cell_type": "code",
      "metadata": {
        "colab": {
          "base_uri": "https://localhost:8080/"
        },
        "id": "x1yrAngP3fTg",
        "outputId": "ed4a87c2-fe1e-49e2-bec3-e61fcd842f4a"
      },
      "source": [
        "normaltest(left_skewed_v2, axis=None)"
      ],
      "execution_count": null,
      "outputs": [
        {
          "output_type": "execute_result",
          "data": {
            "text/plain": [
              "NormaltestResult(statistic=101.93731981629303, pvalue=7.321368255942482e-23)"
            ]
          },
          "metadata": {
            "tags": []
          },
          "execution_count": 138
        }
      ]
    },
    {
      "cell_type": "markdown",
      "metadata": {
        "id": "rH1UeCqg39Vp"
      },
      "source": [
        "Como os valores p são maiores do que 0.05, então falhamos em rejeitar a hipótese nula. Portanto, não temos evidência suficiente para afirmar que não são distribuições normais. "
      ]
    }
  ]
}